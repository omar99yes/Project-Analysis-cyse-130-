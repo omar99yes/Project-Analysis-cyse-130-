{
 "cells": [
  {
   "cell_type": "code",
   "execution_count": 2,
   "metadata": {},
   "outputs": [],
   "source": [
    "import psutil\n",
    "import pandas as pd\n",
    "import smtplib"
   ]
  },
  {
   "cell_type": "code",
   "execution_count": 3,
   "metadata": {},
   "outputs": [],
   "source": [
    "CPU_Threshold = 90\n",
    "alert_duration = 300  ## Only after five minutes\n",
    "disk_threshold = 90\n",
    "memory_threshold = 80"
   ]
  },
  {
   "cell_type": "code",
   "execution_count": 4,
   "metadata": {},
   "outputs": [],
   "source": [
    "def log_performance():\n",
    "    cpu_usage = psutil.cpu_percent(interval=1)\n",
    "    memory_usage = psutil.virtual_memory().percent\n",
    "    disk_usage = psutil.disk_usage('/').percent"
   ]
  },
  {
   "cell_type": "code",
   "execution_count": 5,
   "metadata": {},
   "outputs": [],
   "source": [
    "## Email configuration\n",
    "ALERT_EMAIL = \"testingemail20294@gmail.com\"\n",
    "SMTP_SERVER = \"smtp.gmail.com\"\n",
    "EMAIL_USER = \"testingemail20294@gmail.com\"\n",
    "EMAIL_PASS = \"Nettspendfan12\""
   ]
  },
  {
   "cell_type": "code",
   "execution_count": 6,
   "metadata": {},
   "outputs": [],
   "source": [
    "## The function to send an alert email\n",
    "def send_email_alert(message):\n",
    "    sender = \"testingemail20294@gmail.com\"\n",
    "    subject = \"System Performance Alert\"\n",
    "    smtp_username = \"testingemail20294@gmail.com\"\n",
    "    smtp_password = \"Nettspendfan123\""
   ]
  },
  {
   "cell_type": "code",
   "execution_count": 7,
   "metadata": {},
   "outputs": [],
   "source": [
    "def send_alert_email(subject, message):\n",
    "    try:\n",
    "        server = smtplib.SMTP\n",
    "        server.starttls()\n",
    "        server.quit()\n",
    "        print(\"Alert email sent.\")\n",
    "    except Exception as e:\n",
    "        print(\"Failed to send email alert:\", e)"
   ]
  },
  {
   "cell_type": "code",
   "execution_count": 8,
   "metadata": {},
   "outputs": [],
   "source": [
    "def monitor_system():\n",
    "    start_time = None\n",
    "    alert_triggered = False\n",
    "\n",
    "    while True:\n",
    "        ## Logging and checking system performance\n",
    "        cpu, memory, disk = log_performance()"
   ]
  }
 ],
 "metadata": {
  "kernelspec": {
   "display_name": "Python 3",
   "language": "python",
   "name": "python3"
  },
  "language_info": {
   "codemirror_mode": {
    "name": "ipython",
    "version": 3
   },
   "file_extension": ".py",
   "mimetype": "text/x-python",
   "name": "python",
   "nbconvert_exporter": "python",
   "pygments_lexer": "ipython3",
   "version": "3.12.5"
  }
 },
 "nbformat": 4,
 "nbformat_minor": 2
}
